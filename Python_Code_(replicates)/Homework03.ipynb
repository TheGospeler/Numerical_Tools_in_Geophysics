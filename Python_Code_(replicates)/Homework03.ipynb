{
 "cells": [
  {
   "cell_type": "markdown",
   "id": "faa74827",
   "metadata": {},
   "source": [
    "# Python Scripts for the Homework on Numerical Tools\n"
   ]
  },
  {
   "cell_type": "markdown",
   "id": "adbf5b35",
   "metadata": {},
   "source": [
    "### Homework02- Repeated Simpson's Method"
   ]
  },
  {
   "cell_type": "markdown",
   "id": "ee267032",
   "metadata": {},
   "source": [
    "### Function"
   ]
  },
  {
   "cell_type": "code",
   "execution_count": 14,
   "id": "b03393ae",
   "metadata": {},
   "outputs": [],
   "source": [
    "def function(num):\n",
    "    return (num**3) * (1+num**4)**3\n",
    "\n",
    "def trapezoid(interval, u_limit, l_limit):\n",
    "    no_integration_pnt= interval\n",
    "    h = (u_limit - l_limit) / interval*1.0\n",
    "\n",
    "    summ = 0.0\n",
    "    int_pnt = 2\n",
    "    while (int_pnt <= no_integration_pnt):\n",
    "        x = l_limit + h * (int_pnt-1)\n",
    "        summ = summ + function(x)\n",
    "        int_pnt+= 1\n",
    "    \n",
    "    trap_function = 0.5 * (function(l_limit) + function(u_limit)) + summ\n",
    "    return h * trap_function\n",
    "    \n",
    "def rectangle(interval, u_limit, l_limit):\n",
    "    no_integration_pnt= interval\n",
    "    h = (u_limit - l_limit) / interval\n",
    "    \n",
    "    summ = 0.0\n",
    "    int_pnt = 1\n",
    "    while (int_pnt <= no_integration_pnt):\n",
    "        x = l_limit + h * (int_pnt-1)\n",
    "        summ = summ + function(x)\n",
    "        int_pnt+= 1\n",
    "    \n",
    "    rect_function = h*summ\n",
    "    return rect_function\n",
    "\n",
    "def simpson(interval, u_limit, l_limit):\n",
    "    no_integration_pnt= interval\n",
    "    h = (u_limit - l_limit) / interval\n",
    "    \n",
    "    a_z_sum =  function(u_limit) + function(lower_limit)\n",
    "    \n",
    "    sum_odd = 0\n",
    "    int_pnt = 2\n",
    "    while int_pnt <= interval-2:\n",
    "        sum_odd = sum_odd + 2 * function(l_limit+int_pnt*h)\n",
    "        int_pnt += 2\n",
    "    \n",
    "    sum_even = 0\n",
    "    int_pnt = 1\n",
    "    while int_pnt <= interval-1:\n",
    "        sum_even = sum_even + 4 * function(l_limit+int_pnt*h)\n",
    "        int_pnt += 2\n",
    "        \n",
    "    return (a_z_sum + sum_odd + sum_even) * h/3\n",
    "    "
   ]
  },
  {
   "cell_type": "markdown",
   "id": "9da6aeb4",
   "metadata": {},
   "source": [
    "#### Variable Definition"
   ]
  },
  {
   "cell_type": "code",
   "execution_count": 6,
   "id": "2c6d4cc3",
   "metadata": {},
   "outputs": [
    {
     "data": {
      "text/plain": [
       "0.9375"
      ]
     },
     "execution_count": 6,
     "metadata": {},
     "output_type": "execute_result"
    }
   ],
   "source": [
    "upper_limit= 1.0\n",
    "lower_limit= 0.0\n",
    "\n",
    "analytical_soln = 15.0/16.0\n",
    "analytical_soln"
   ]
  },
  {
   "cell_type": "markdown",
   "id": "75c1012a",
   "metadata": {},
   "source": [
    "### Main Program"
   ]
  },
  {
   "cell_type": "code",
   "execution_count": 16,
   "id": "7556addf",
   "metadata": {},
   "outputs": [
    {
     "name": "stdout",
     "output_type": "stream",
     "text": [
      "Enter preferred number of intervals: 6\n",
      "Rectangle Rule (n=6): Answer: 0.43108 (Error 54.0184%)\n",
      "Trapezoid Rule (n=6): Answer: 1.09774 (Error 17.0927%)\n",
      "Simpson's Rule (n=6): Answer: 0.95841 (Error 2.2300%)\n"
     ]
    }
   ],
   "source": [
    "intervals = input(\"Enter preferred number of intervals: \")\n",
    "if not intervals.isnumeric():\n",
    "    print(\"You did not enter a numeric value, Please try again\")\n",
    "    \n",
    "# Repeated Rectangle Rule\n",
    "ans_rect = rectangle(int(intervals), upper_limit, lower_limit)\n",
    "error_rect = (abs(ans_rect - analytical_soln) / analytical_soln) * 100\n",
    "\n",
    "# Repeated Trapezoid\n",
    "ans_trap = trapezoid(int(intervals), upper_limit, lower_limit)\n",
    "error_trap = (abs(ans_trap - analytical_soln) / analytical_soln) * 100\n",
    "\n",
    "# Repeated Simpson's Rule\n",
    "ans_simp = simpson(int(intervals), upper_limit, lower_limit)\n",
    "error_simp = (abs(ans_simp - analytical_soln) / analytical_soln) * 100\n",
    "\n",
    "# Print the functions\n",
    "print(\"Rectangle Rule (n={}): Answer: {:.5f} (Error {:.4f}%)\".format(intervals, ans_rect, error_rect))\n",
    "print(\"Trapezoid Rule (n={}): Answer: {:.5f} (Error {:.4f}%)\".format(intervals, ans_trap, error_trap))\n",
    "\n",
    "if (int(intervals) % 2 != 0):\n",
    "    print(\"ERROR: The number of intervals needs to be an even number for Simpsons Rule\")\n",
    "else:\n",
    "    print(\"Simpson's Rule (n={}): Answer: {:.5f} (Error {:.4f}%)\".format(intervals, ans_simp, error_simp))"
   ]
  },
  {
   "cell_type": "markdown",
   "id": "6269ac33",
   "metadata": {},
   "source": [
    "### GLORY TO GOD!!!!\n"
   ]
  }
 ],
 "metadata": {
  "kernelspec": {
   "display_name": "Python 3",
   "language": "python",
   "name": "python3"
  },
  "language_info": {
   "codemirror_mode": {
    "name": "ipython",
    "version": 3
   },
   "file_extension": ".py",
   "mimetype": "text/x-python",
   "name": "python",
   "nbconvert_exporter": "python",
   "pygments_lexer": "ipython3",
   "version": "3.8.8"
  }
 },
 "nbformat": 4,
 "nbformat_minor": 5
}
