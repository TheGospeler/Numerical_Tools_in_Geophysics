{
 "cells": [
  {
   "cell_type": "markdown",
   "id": "a68be879",
   "metadata": {},
   "source": [
    "## Python Scripts for the Homework on Numerical Tools"
   ]
  },
  {
   "cell_type": "markdown",
   "id": "fb4553fd",
   "metadata": {},
   "source": [
    "### Homework04-  Simpson's Method To Solve any integral problem"
   ]
  },
  {
   "cell_type": "code",
   "execution_count": 1,
   "id": "d2551350",
   "metadata": {},
   "outputs": [],
   "source": [
    "import numpy as np\n",
    "from function import function"
   ]
  },
  {
   "cell_type": "code",
   "execution_count": 5,
   "id": "ca6c1ebf",
   "metadata": {},
   "outputs": [],
   "source": [
    "# We are coding this function to determine the best interval to use in producing\n",
    "# an accurate answer.\n",
    "\n",
    "def simpson(u_limit, l_limit):\n",
    "    # keep_going is the variable that enables the outer loop to continue within the confinement of the set conditions\n",
    "    keep_going = 1\n",
    "    previous = 0.0\n",
    "    interval = 2\n",
    "    \n",
    "    while(keep_going):\n",
    "        h = (u_limit - l_limit) / interval\n",
    "\n",
    "        a_z_sum =  function(u_limit) + function(l_limit)\n",
    "\n",
    "        sum_odd = 0\n",
    "        int_pnt = 2\n",
    "        while int_pnt <= interval-2:\n",
    "            sum_odd = sum_odd + 2 * function(l_limit+int_pnt*h)\n",
    "            int_pnt += 2\n",
    "\n",
    "        sum_even = 0\n",
    "        int_pnt = 1\n",
    "        while int_pnt <= interval-1:\n",
    "            sum_even = sum_even + 4 * function(l_limit+int_pnt*h)\n",
    "            int_pnt += 2\n",
    "        \n",
    "        current = (a_z_sum + sum_odd + sum_even) * h/3\n",
    "        diff = current - previous\n",
    "        check = abs(diff)\n",
    "        eps = 1e-07\n",
    "\n",
    "        if (check < eps):\n",
    "            keep_going = 0\n",
    "            \n",
    "        print(\"Number of intervals: {} result: {:.8f}\".format(interval, current))\n",
    "        \n",
    "        interval =interval *2\n",
    "        previous = current"
   ]
  },
  {
   "cell_type": "code",
   "execution_count": 3,
   "id": "547e9942",
   "metadata": {},
   "outputs": [
    {
     "data": {
      "text/plain": [
       "236.0"
      ]
     },
     "execution_count": 3,
     "metadata": {},
     "output_type": "execute_result"
    }
   ],
   "source": [
    "c= \"Come to the 234\"\n",
    "float(c.split()[-1]) +2"
   ]
  },
  {
   "cell_type": "markdown",
   "id": "1aef6f0b",
   "metadata": {},
   "source": [
    "### Main Program"
   ]
  },
  {
   "cell_type": "code",
   "execution_count": 8,
   "id": "96dcb5d8",
   "metadata": {},
   "outputs": [
    {
     "name": "stdout",
     "output_type": "stream",
     "text": [
      "Enter the upper bound: 2\n",
      "Enter the lower bound: '\n",
      "'1\n",
      "The lower bound of the integral is: 1\n",
      "The higher bound of the integral is 2 \n",
      "\n",
      "Number of intervals: 2 result: 7053.34625244\n",
      "Number of intervals: 4 result: 5425.19144772\n",
      "Number of intervals: 8 result: 5234.34272256\n",
      "Number of intervals: 16 result: 5220.06037541\n",
      "Number of intervals: 32 result: 5219.12555997\n",
      "Number of intervals: 64 result: 5219.06645216\n",
      "Number of intervals: 128 result: 5219.06274718\n",
      "Number of intervals: 256 result: 5219.06251545\n",
      "Number of intervals: 512 result: 5219.06250097\n",
      "Number of intervals: 1024 result: 5219.06250006\n",
      "Number of intervals: 2048 result: 5219.06250000\n"
     ]
    }
   ],
   "source": [
    "upper_bound = input(\"Enter the upper bound: \")\n",
    "lower_bound = input(\"Enter the lower bound: \")\n",
    "\n",
    "if (upper_bound <= lower_bound):\n",
    "    print(\"ERROR- your upper bound {} is less or equal to your lower bound {}\".format(upper_bound, lower_bound))\n",
    "    \n",
    "# print the upper and lower limit\n",
    "print(\"The lower bound of the integral is:\", lower_bound)\n",
    "print(\"The higher bound of the integral is\", upper_bound, '\\n')\n",
    "\n",
    "\n",
    "# call the Simpson's function\n",
    "simpson(float(upper_bound), float(lower_bound))"
   ]
  },
  {
   "cell_type": "code",
   "execution_count": null,
   "id": "eb8c0cc1",
   "metadata": {},
   "outputs": [],
   "source": []
  }
 ],
 "metadata": {
  "kernelspec": {
   "display_name": "Python 3",
   "language": "python",
   "name": "python3"
  },
  "language_info": {
   "codemirror_mode": {
    "name": "ipython",
    "version": 3
   },
   "file_extension": ".py",
   "mimetype": "text/x-python",
   "name": "python",
   "nbconvert_exporter": "python",
   "pygments_lexer": "ipython3",
   "version": "3.8.8"
  }
 },
 "nbformat": 4,
 "nbformat_minor": 5
}
