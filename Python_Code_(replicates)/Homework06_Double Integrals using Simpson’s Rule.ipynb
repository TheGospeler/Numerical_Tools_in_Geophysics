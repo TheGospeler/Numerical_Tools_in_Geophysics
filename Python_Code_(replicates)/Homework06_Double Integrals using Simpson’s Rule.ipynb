{
 "cells": [
  {
   "cell_type": "markdown",
   "id": "53b93c75",
   "metadata": {},
   "source": [
    "# Python Scripts for the Homework on Numerical Tools"
   ]
  },
  {
   "cell_type": "markdown",
   "id": "9770ded5",
   "metadata": {},
   "source": [
    "### Double Integrals using Simpson’s Rule to calculate a 2D Total Volume of Erosion"
   ]
  },
  {
   "cell_type": "code",
   "execution_count": 20,
   "id": "77f9cd05",
   "metadata": {},
   "outputs": [],
   "source": [
    "# import modules\n",
    "import numpy as np"
   ]
  },
  {
   "cell_type": "markdown",
   "id": "1e455cc7",
   "metadata": {},
   "source": [
    "### Import the files to be used to perform the double integration"
   ]
  },
  {
   "cell_type": "markdown",
   "id": "87053b1a",
   "metadata": {},
   "source": [
    "**Edit 1:** change the analytical.input to your file of choice."
   ]
  },
  {
   "cell_type": "code",
   "execution_count": 118,
   "id": "21b0b7bd",
   "metadata": {},
   "outputs": [],
   "source": [
    "# The first stage is import the file\n",
    "with open('analytical.input', 'r') as file:\n",
    "    test = file.readlines()\n",
    "    \n",
    "# Main Problem\n",
    "with open('erosion_data.input', 'r') as file:\n",
    "    erosion_data = file.readlines()"
   ]
  },
  {
   "cell_type": "code",
   "execution_count": 124,
   "id": "8d4e223b",
   "metadata": {},
   "outputs": [
    {
     "data": {
      "text/plain": [
       "0.0"
      ]
     },
     "execution_count": 124,
     "metadata": {},
     "output_type": "execute_result"
    }
   ],
   "source": [
    "# Test on how to safely extract the data needed for the computation work\n",
    "float(test[1:][0].split()[-1])\n",
    "float(erosion_data[1:][0].split()[-1])"
   ]
  },
  {
   "cell_type": "markdown",
   "id": "ea8b2abc",
   "metadata": {},
   "source": [
    "### Essential functions and variables needed to independently estimate the double integration per time"
   ]
  },
  {
   "cell_type": "code",
   "execution_count": 89,
   "id": "840f3943",
   "metadata": {},
   "outputs": [],
   "source": [
    "# for this solution we will need the value of the xnodes and the ynodes, which determines the size of the array\n",
    "def extractor(file):\n",
    "    # The first column holds the necessary info that we will need for the entire operation.\n",
    "    unpack = file[0].split()\n",
    "    x_nodes =int(unpack[0])\n",
    "    y_nodes =int(unpack[1]) \n",
    "    h_x = float(unpack[2]) # Number of nodes in the x_direction\n",
    "    k_y = float(unpack[3]) # Number of nodes in the y_direction\n",
    "    \n",
    "    # we need to create an array consisting of the x_nodes, and y_nodes\n",
    "    array = np.ones((x_nodes+1)*(y_nodes+1)).reshape((x_nodes+1), (y_nodes+1))\n",
    "    \n",
    "    return x_nodes, y_nodes, h_x, k_y, array\n",
    "    "
   ]
  },
  {
   "cell_type": "code",
   "execution_count": 126,
   "id": "ce441ffb",
   "metadata": {},
   "outputs": [
    {
     "data": {
      "text/plain": [
       "array([[1., 1., 1., ..., 1., 1., 1.],\n",
       "       [1., 1., 1., ..., 1., 1., 1.],\n",
       "       [1., 1., 1., ..., 1., 1., 1.],\n",
       "       ...,\n",
       "       [1., 1., 1., ..., 1., 1., 1.],\n",
       "       [1., 1., 1., ..., 1., 1., 1.],\n",
       "       [1., 1., 1., ..., 1., 1., 1.]])"
      ]
     },
     "execution_count": 126,
     "metadata": {},
     "output_type": "execute_result"
    }
   ],
   "source": [
    "# To solve the problem just supply the file into the parameter, such as test or erosion_data\n",
    "x_nodes, y_nodes, h, k, array = extractor(erosion_data)\n",
    "array"
   ]
  },
  {
   "cell_type": "code",
   "execution_count": 127,
   "id": "6149e49b",
   "metadata": {},
   "outputs": [],
   "source": [
    "# The loop below stores data into the array from the southwestern angle towards the east of the inputed data\n",
    "# based on the size of the size of the row and column inputed.\n",
    "\n",
    "# We parse the data from the file into the array position\n",
    "\n",
    "def parse_array(file, nodes_x, nodes_y, array):\n",
    "    count = 0\n",
    "    for j in range(1, nodes_y+1):\n",
    "        for i in range(1, nodes_x+1):\n",
    "            array[i][j] = float(file[1:][count].split()[-1])\n",
    "            count += 1\n",
    "            \n",
    "    return array"
   ]
  },
  {
   "cell_type": "code",
   "execution_count": 128,
   "id": "49e92b54",
   "metadata": {},
   "outputs": [
    {
     "data": {
      "text/plain": [
       "501"
      ]
     },
     "execution_count": 128,
     "metadata": {},
     "output_type": "execute_result"
    }
   ],
   "source": [
    "y_nodes"
   ]
  },
  {
   "cell_type": "markdown",
   "id": "a040961c",
   "metadata": {},
   "source": [
    "**Edit 2:** Change the file name (erosion_data) to your specfic file. \n",
    "Mind you, the format of the file is such that the first row holds the information the code will use for the computation. Hence, you are expected to provide the *number of nodes in the horizontal(x) direction*, *number of nodes in the vertical(y) direction*, *The number of intervals in x-direction, and the number of intervals in the y-direction* **at the first row**"
   ]
  },
  {
   "cell_type": "code",
   "execution_count": 131,
   "id": "b12470ce",
   "metadata": {},
   "outputs": [],
   "source": [
    "# change the data either test or erosion_data or any parameter of interest\n",
    "parse_arr = parse_array(erosion_data, x_nodes, y_nodes, array)"
   ]
  },
  {
   "cell_type": "code",
   "execution_count": 132,
   "id": "2c649475",
   "metadata": {},
   "outputs": [
    {
     "data": {
      "text/plain": [
       "array([[1.000e+00, 1.000e+00, 1.000e+00, ..., 1.000e+00, 1.000e+00,\n",
       "        1.000e+00],\n",
       "       [1.000e+00, 0.000e+00, 0.000e+00, ..., 0.000e+00, 0.000e+00,\n",
       "        0.000e+00],\n",
       "       [1.000e+00, 0.000e+00, 1.000e-04, ..., 6.260e-02, 6.270e-02,\n",
       "        6.280e-02],\n",
       "       ...,\n",
       "       [1.000e+00, 0.000e+00, 3.000e-04, ..., 1.252e-01, 1.254e-01,\n",
       "        1.257e-01],\n",
       "       [1.000e+00, 0.000e+00, 1.000e-04, ..., 6.260e-02, 6.270e-02,\n",
       "        6.280e-02],\n",
       "       [1.000e+00, 0.000e+00, 0.000e+00, ..., 0.000e+00, 0.000e+00,\n",
       "        0.000e+00]])"
      ]
     },
     "execution_count": 132,
     "metadata": {},
     "output_type": "execute_result"
    }
   ],
   "source": [
    "array"
   ]
  },
  {
   "cell_type": "markdown",
   "id": "f6aac081",
   "metadata": {},
   "source": [
    "### Calculating the double integral function"
   ]
  },
  {
   "cell_type": "code",
   "execution_count": 137,
   "id": "5e598717",
   "metadata": {},
   "outputs": [
    {
     "name": "stdout",
     "output_type": "stream",
     "text": [
      "The inegration value is: 7.958e+07\n"
     ]
    }
   ],
   "source": [
    "P = x_nodes\n",
    "Q = y_nodes\n",
    "\n",
    "# since the double integral has several elements / group, the formular is broken in part\n",
    "sum1 = array[1][1] + array[P][1] + array[1][Q] + array[P][Q]\n",
    "\n",
    "# Second Element-\n",
    "sum2 = 0\n",
    "for j in range(2, Q, 2):\n",
    "    sum2 =sum2 + 4*(array[1][j] + array[P][j])\n",
    "\n",
    "# Third Element\n",
    "sum3 = 0\n",
    "for j in range(3, Q-1, 2):\n",
    "    sum3 =sum3 + 2*(array[1][j] + array[P][j])\n",
    "\n",
    "# Fourth Element\n",
    "sum4 = 0\n",
    "for i in range(2, P, 2):\n",
    "    sum4 =sum4 + 4*(array[i][1] + array[i][Q])\n",
    "    \n",
    "# Fifth Element\n",
    "sum5 = 0\n",
    "for i in range(3, P-1, 2):\n",
    "    sum5 =sum5 + 2*(array[i][1] + array[i][Q])\n",
    "    \n",
    "# Sixth Element\n",
    "sum6 = 0\n",
    "for j in range(3, Q-1, 2):\n",
    "    for i in range(2, P, 2):\n",
    "        sum6 = sum6 + 8*array[i][j]\n",
    "        \n",
    "# Seventh Element\n",
    "sum7 = 0\n",
    "for j in range(2, Q, 2):\n",
    "    for i in range(3, P-1, 2):\n",
    "        sum7 = sum7 + 8*(array[i][j])\n",
    "        \n",
    "# Eight Elements\n",
    "sum8 = 0\n",
    "for j in range(2, Q, 2):\n",
    "    for i in range(2, P, 2):\n",
    "        sum8 = sum8 + 16*array[i][j]\n",
    "        \n",
    "# Nine Elements\n",
    "sum9 = 0\n",
    "for j in range(3, Q-1, 2):\n",
    "    for i in range(3, P-1, 2):\n",
    "        sum9 = sum9 + 4*array[i][j]\n",
    "        \n",
    "# Summing all the elements to produce the simpson's double integration solution\n",
    "total_erosion_volume = (h*k/9)*(sum1 + sum2 + sum3 + sum4 + sum5 + sum6 + sum7 + sum8 + sum9)\n",
    "\n",
    "print(\"The inegration value is: {:.3e}\".format(total_erosion_volume))\n",
    "# Note we can truncate the thousands using the :.3e instead of the :.2f to present our values."
   ]
  },
  {
   "cell_type": "markdown",
   "id": "8a128c16",
   "metadata": {},
   "source": [
    "The difference between C programming and Python **for loop** is that while, the C programming uses exact figures, python uses a similitude of range, and you have to consider that the range returns number-1.\n",
    "\n",
    "**This should be at our heart when performing computation between these languages**"
   ]
  },
  {
   "cell_type": "markdown",
   "id": "74d26a0a",
   "metadata": {},
   "source": [
    "### GLORY TO JESUS!"
   ]
  }
 ],
 "metadata": {
  "kernelspec": {
   "display_name": "Python 3",
   "language": "python",
   "name": "python3"
  },
  "language_info": {
   "codemirror_mode": {
    "name": "ipython",
    "version": 3
   },
   "file_extension": ".py",
   "mimetype": "text/x-python",
   "name": "python",
   "nbconvert_exporter": "python",
   "pygments_lexer": "ipython3",
   "version": "3.8.8"
  }
 },
 "nbformat": 4,
 "nbformat_minor": 5
}
