{
 "cells": [
  {
   "cell_type": "markdown",
   "id": "4a916dea",
   "metadata": {},
   "source": [
    "# Python Scripts for the Homework on Numerical Tools"
   ]
  },
  {
   "cell_type": "markdown",
   "id": "b9a1f746",
   "metadata": {},
   "source": [
    "## Homework08 Finite Difference - Second-order Boundary Value Problem (BVP) ODEs"
   ]
  },
  {
   "cell_type": "markdown",
   "id": "cc3089fe",
   "metadata": {},
   "source": [
    "#### Function definition"
   ]
  },
  {
   "cell_type": "code",
   "execution_count": 2,
   "id": "e39a6ddb",
   "metadata": {},
   "outputs": [],
   "source": [
    "import numpy as np"
   ]
  },
  {
   "cell_type": "markdown",
   "id": "0688c008",
   "metadata": {},
   "source": [
    "#### Interactive Cell"
   ]
  },
  {
   "cell_type": "code",
   "execution_count": 10,
   "id": "9716a386",
   "metadata": {
    "scrolled": true
   },
   "outputs": [
    {
     "name": "stdout",
     "output_type": "stream",
     "text": [
      "Choose the intended method you intend to use\n",
      "Enter '1' for Jacobi and '2' for Gauss-Seidel's: 2\n",
      "\n",
      "Solver is Gauss-Seidel\n",
      "Converged: 58 iterations\n",
      "\n",
      "X: 0.00 F: 0.000\n",
      "X: 0.10 F: 0.022\n",
      "X: 0.20 F: 0.049\n",
      "X: 0.30 F: 0.083\n",
      "X: 0.40 F: 0.129\n",
      "X: 0.50 F: 0.193\n",
      "X: 0.60 F: 0.279\n",
      "X: 0.70 F: 0.395\n",
      "X: 0.80 F: 0.547\n",
      "X: 0.90 F: 0.745\n",
      "X: 1.00 F: 1.000\n"
     ]
    }
   ],
   "source": [
    "# Declaring initial values\n",
    "keep_going =1\n",
    "\n",
    "# initial functions\n",
    "F0_prev = 0.0\n",
    "F_prev=0.5\n",
    "F10_prev=0.5\n",
    "\n",
    "# interval variable\n",
    "iteration_number = 0\n",
    "dx = 0.1\n",
    "\n",
    "a = -1 / dx**2\n",
    "b = ((2*a) - 4)\n",
    "\n",
    "b = ((2*a) - 4)\n",
    "# Creating an array that stores the x values, which which are from  0 to 10, with step 1.\n",
    "\n",
    "X = np.linspace(0, 1.0, 11)\n",
    "    \n",
    "print(\"Choose the intended method you intend to use\")\n",
    "option = int(input(\"Enter '1' for Jacobi and '2' for Gauss-Seidel's: \"))\n",
    "\n",
    "if(option == 1):\n",
    "    \n",
    "    # print out the solver method to be used\n",
    "    print(\"\\nSolver is Jacobi\")\n",
    "    \n",
    "    # For easy computational dealings, we will add one more, to start counting from 1 and not 0\n",
    "    F_array_jacob =np.empty(33).reshape(11, 3) \n",
    "    \n",
    "    # store up the boundary values F0 and F10\n",
    "    F_array_jacob[0][1] = 0.0\n",
    "    F_array_jacob[10][1] = 1.0\n",
    "    \n",
    "    # The following code fills the first column of the array with the initial value of 0.5\n",
    "    for i in range(1, 10):\n",
    "        for j in range(1, 2):\n",
    "            F_array_jacob[i][j] = F_prev\n",
    "            \n",
    "    # Now we have our array with two columns for each function, and we can add and edit as we wish\n",
    "    # We can setup for the functions\n",
    "    \n",
    "    while(keep_going):\n",
    "        for i in range(1, 10):\n",
    "            F_array_jacob[i][2] = (a*(F_array_jacob[i-1][1] + F_array_jacob[i+1][1]) + 3*X[i])/ b\n",
    "          \n",
    "        \n",
    "        # Check the condition set for accuracy\n",
    "        if((abs(F_array_jacob[1][2] - F_array_jacob[1][1]) < 0.00001) and (abs(F_array_jacob[2][2] - F_array_jacob[2][1]) < 0.00001) and\n",
    "           (abs(F_array_jacob[3][2] - F_array_jacob[3][1]) < 0.00001) and (abs(F_array_jacob[4][2] - F_array_jacob[4][1]) < 0.00001) and\n",
    "           (abs(F_array_jacob[5][2] - F_array_jacob[5][1]) < 0.00001) and (abs(F_array_jacob[6][2] - F_array_jacob[6][1]) < 0.00001) and\n",
    "           (abs(F_array_jacob[7][2] - F_array_jacob[7][1]) < 0.00001) and (abs(F_array_jacob[8][2] - F_array_jacob[8][1]) < 0.00001) and\n",
    "           (abs(F_array_jacob[9][2] - F_array_jacob[9][1]) < 0.00001)):\n",
    "            \n",
    "            keep_going = 0\n",
    "        \n",
    "        # replace the previous value with the current value    \n",
    "        for i in range(1, 10):\n",
    "            F_array_jacob[i][1] = F_array_jacob[i][2]\n",
    "            \n",
    "        iteration_number = iteration_number + 1\n",
    "    \n",
    "    print(f\"Converged: {iteration_number} iterations\\n\")\n",
    "    \n",
    "    # printing the final values\n",
    "    for i in range(0, 11):\n",
    "        print(\"X: {:.2f} F: {:.3f}\".format(X[i], F_array_jacob[i][1]))\n",
    "        \n",
    "elif(option == 2):\n",
    "    \n",
    "    # print out the solver method to be used\n",
    "    print(\"\\nSolver is Gauss-Seidel\")\n",
    "    \n",
    "    # For easy computational dealings, we will add one more, to start counting from 1 and not 0\n",
    "    F_array_GS =np.empty(33).reshape(11, 3) \n",
    "    \n",
    "    # store up the boundary values F0 and F10\n",
    "    F_array_GS[0][1] = 0.0\n",
    "    F_array_GS[10][1] = 1.0\n",
    "    \n",
    "    # The following code fills the first column of the array with the initial value of 0.5\n",
    "    for i in range(1, 10):\n",
    "        for j in range(1, 2):\n",
    "            F_array_GS[i][j] = F_prev\n",
    "            \n",
    "    # Now we have our array with two columns for each function, and we can add and edit as we wish\n",
    "    # We can setup for the functions\n",
    "    \n",
    "    while(keep_going):\n",
    "        for i in range(1, 10):\n",
    "            F_array_GS[i][2] = (a*(F_array_GS[i-1][2] + F_array_GS[i+1][1]) + 3*X[i])/ b\n",
    "          \n",
    "        \n",
    "        # Check the condition set for accuracy\n",
    "        if((abs(F_array_GS[1][2] - F_array_GS[1][1]) < 0.00001) and (abs(F_array_GS[2][2] - F_array_GS[2][1]) < 0.00001) and\n",
    "           (abs(F_array_GS[3][2] - F_array_GS[3][1]) < 0.00001) and (abs(F_array_GS[4][2] - F_array_GS[4][1]) < 0.00001) and\n",
    "           (abs(F_array_GS[5][2] - F_array_GS[5][1]) < 0.00001) and (abs(F_array_GS[6][2] - F_array_GS[6][1]) < 0.00001) and\n",
    "           (abs(F_array_GS[7][2] - F_array_GS[7][1]) < 0.00001) and (abs(F_array_GS[8][2] - F_array_GS[8][1]) < 0.00001) and\n",
    "           (abs(F_array_GS[9][2] - F_array_GS[9][1]) < 0.00001)):\n",
    "            \n",
    "            keep_going = 0\n",
    "        \n",
    "        # replace the previous value with the current value    \n",
    "        for i in range(1, 10):\n",
    "            F_array_GS[i][1] = F_array_GS[i][2]\n",
    "            \n",
    "        iteration_number = iteration_number + 1\n",
    "    \n",
    "    print(f\"Converged: {iteration_number} iterations\\n\")\n",
    "    \n",
    "    # printing the final values\n",
    "    for i in range(0, 11):\n",
    "        print(\"X: {:.2f} F: {:.3f}\".format(X[i], F_array_GS[i][1]))"
   ]
  },
  {
   "cell_type": "code",
   "execution_count": null,
   "id": "71edc5bb",
   "metadata": {},
   "outputs": [],
   "source": []
  }
 ],
 "metadata": {
  "kernelspec": {
   "display_name": "Python 3",
   "language": "python",
   "name": "python3"
  },
  "language_info": {
   "codemirror_mode": {
    "name": "ipython",
    "version": 3
   },
   "file_extension": ".py",
   "mimetype": "text/x-python",
   "name": "python",
   "nbconvert_exporter": "python",
   "pygments_lexer": "ipython3",
   "version": "3.8.8"
  }
 },
 "nbformat": 4,
 "nbformat_minor": 5
}
