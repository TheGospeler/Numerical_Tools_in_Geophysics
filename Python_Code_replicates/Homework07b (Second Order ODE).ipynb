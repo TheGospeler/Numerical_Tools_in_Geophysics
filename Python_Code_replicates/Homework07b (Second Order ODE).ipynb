{
 "cells": [
  {
   "cell_type": "markdown",
   "id": "490398e9",
   "metadata": {},
   "source": [
    "# Python Scripts for the Homework on Numerical Tools"
   ]
  },
  {
   "cell_type": "markdown",
   "id": "b2994c76",
   "metadata": {},
   "source": [
    "### Homework07- ODE"
   ]
  },
  {
   "cell_type": "markdown",
   "id": "5d35437a",
   "metadata": {},
   "source": [
    "#### Functions"
   ]
  },
  {
   "cell_type": "code",
   "execution_count": 29,
   "id": "e003dab2",
   "metadata": {},
   "outputs": [],
   "source": [
    "import numpy as np\n",
    "import matplotlib.pyplot as plt"
   ]
  },
  {
   "cell_type": "code",
   "execution_count": 30,
   "id": "6bc637b4",
   "metadata": {},
   "outputs": [],
   "source": [
    "def function(x, f, g):\n",
    "    \n",
    "    dx2 = 24 * np.cos(4*x) - 16 * f\n",
    "    return dx2\n",
    "\n",
    "def rk_2nd_order(function, no_of_steps, upper_limit, lower_limit):\n",
    "    \"\"\" The function returns the second order derivative and the array that stores\n",
    "        the xpoint, current_f, and current_g for the iterations\"\"\"\n",
    "    \n",
    "    h = (upper_limit - lower_limit) / (no_of_steps*1.0)\n",
    "    \n",
    "    # list to store variables\n",
    "    current_func = []\n",
    "    current_gfunc= []\n",
    "    x_list = []\n",
    "   \n",
    "    \n",
    "    # initial conditions\n",
    "    initial_func = 0.0\n",
    "    initial_gfunc = 0.0\n",
    "    \n",
    "    step_points = no_of_steps\n",
    "    \n",
    "    for step_point in range(1, step_points+1, 1):\n",
    "        x = lower_limit+h*(step_point-1)\n",
    "        xi = lower_limit+h*(step_point)\n",
    "        mid = h/2\n",
    "        \n",
    "        # where L and K represents the stepping methods for the first and second ODE\n",
    "        Lo = h*function(x, initial_func, initial_gfunc)\n",
    "        Ko = h*initial_gfunc\n",
    "        \n",
    "        L1 = h*function(x+mid, initial_func+Ko/2.0, initial_gfunc+Lo/2.0)\n",
    "        K1 = h*(initial_gfunc + Lo/2.0)\n",
    "        \n",
    "        L2 = h*function(x+mid, initial_func+K1/2.0, initial_gfunc+L1/2.0)\n",
    "        K2 = h*(initial_gfunc + L1/2.0)\n",
    "        \n",
    "        L3 = h*function(xi, initial_func+K2, initial_gfunc+L2)\n",
    "        K3 = h*(initial_gfunc + L2)\n",
    "        \n",
    "        current_g = initial_gfunc + (Lo + 2*L1 +2*L2 + L3)/6.0\n",
    "        current_f = initial_func + (Ko + 2*K1 +2*K2 + K3)/6.0\n",
    "        \n",
    "        x_list.append(x)\n",
    "        current_func.append(current_f)\n",
    "        current_gfunc.append(current_g)\n",
    "        \n",
    "        #update the initial first and second order function\n",
    "        initial_func = current_f\n",
    "        initial_gfunc = current_g\n",
    "        \n",
    "    # array that stores the information\n",
    "    x_list = np.array(x_list).reshape(-1, 1)\n",
    "    current_func = np.array(current_func).reshape(-1, 1)\n",
    "    current_gfunc = np.array(current_gfunc).reshape(-1, 1)\n",
    "    \n",
    "    # combine the arrays together to get a nrow x 3 array\n",
    "    curr_array = np.hstack((x_list, current_func, current_gfunc))\n",
    "    \n",
    "    return initial_func, curr_array"
   ]
  },
  {
   "cell_type": "markdown",
   "id": "753e7631",
   "metadata": {},
   "source": [
    "#### Execution of the function"
   ]
  },
  {
   "cell_type": "code",
   "execution_count": 31,
   "id": "8c9826d8",
   "metadata": {},
   "outputs": [
    {
     "name": "stdout",
     "output_type": "stream",
     "text": [
      "Runge-Kutta(Number of steps: 1) f(x=5.0) = -159273.53435\n",
      "Runge-Kutta(Number of steps: 2) f(x=5.0) = -64895130.22226\n",
      "Runge-Kutta(Number of steps: 4) f(x=5.0) = -3842368396.19548\n",
      "Runge-Kutta(Number of steps: 8) f(x=5.0) = -86823852883.29097\n",
      "Runge-Kutta(Number of steps: 16) f(x=5.0) = -1.20419\n",
      "Runge-Kutta(Number of steps: 32) f(x=5.0) = 17.49245\n",
      "Runge-Kutta(Number of steps: 64) f(x=5.0) = 22.41065\n",
      "Runge-Kutta(Number of steps: 128) f(x=5.0) = 22.36976\n",
      "Runge-Kutta(Number of steps: 256) f(x=5.0) = 22.35478\n",
      "Runge-Kutta(Number of steps: 512) f(x=5.0) = 22.35349\n",
      "Runge-Kutta(Number of steps: 1024) f(x=5.0) = 22.35340\n",
      "Runge-Kutta(Number of steps: 2048) f(x=5.0) = 22.35340\n"
     ]
    }
   ],
   "source": [
    "print_rk2 = 1\n",
    "rk2_prev_func = 0\n",
    "no_of_steps = 1\n",
    "upper_limit = 10.0\n",
    "lower_limit = 0.0\n",
    "\n",
    "# level of accuracy\n",
    "eps = 1e-5\n",
    "\n",
    "# creates an array that saves the array in the function\n",
    "array = np.ones(3).reshape(-1, 3)\n",
    "\n",
    "while(print_rk2):\n",
    "    rk2_curr_func, array = rk_2nd_order(function, no_of_steps, upper_limit, lower_limit)\n",
    "    error_check = abs(rk2_curr_func - rk2_prev_func)\n",
    "    \n",
    "    # Check to see if the level of accuracy is met\n",
    "    if(error_check < eps):\n",
    "        print_rk2 = 0\n",
    "    \n",
    "    \n",
    "    print(\"Runge-Kutta(Number of steps: {}) f(x=5.0) = {:.5f}\".format(no_of_steps, rk2_curr_func))\n",
    "    \n",
    "    # Increment no_of_steps and Update the eur_prev_func\n",
    "    no_of_steps = no_of_steps *2\n",
    "    rk2_prev_func = rk2_curr_func"
   ]
  },
  {
   "cell_type": "markdown",
   "id": "666c96c0",
   "metadata": {},
   "source": [
    "### Save the array containing the xvalue, firstODE, and secondODE"
   ]
  },
  {
   "cell_type": "code",
   "execution_count": 20,
   "id": "0dcbf1bb",
   "metadata": {},
   "outputs": [],
   "source": [
    "np.savetxt(\"Second_orderODE.txt\", array)\n",
    "# recall we had to create an initial array of ones"
   ]
  },
  {
   "cell_type": "markdown",
   "id": "ffae86d5",
   "metadata": {},
   "source": [
    "### Plotting the graphs to see the relationship between the first and second order ODE"
   ]
  },
  {
   "cell_type": "code",
   "execution_count": 21,
   "id": "e29defed",
   "metadata": {},
   "outputs": [
    {
     "data": {
      "text/plain": [
       "array([[ 0.00000000e+00,  2.86084105e-04,  1.17172599e-01],\n",
       "       [ 4.88281250e-03,  1.14411816e-03,  2.34255804e-01],\n",
       "       [ 9.76562500e-03,  2.57344752e-03,  3.51160272e-01],\n",
       "       ...,\n",
       "       [ 9.98535156e+00,  2.30951365e+01, -7.40932245e+01],\n",
       "       [ 9.99023438e+00,  2.27287875e+01, -7.59588451e+01],\n",
       "       [ 9.99511719e+00,  2.23533952e+01, -7.77972255e+01]])"
      ]
     },
     "execution_count": 21,
     "metadata": {},
     "output_type": "execute_result"
    }
   ],
   "source": [
    "array"
   ]
  },
  {
   "cell_type": "code",
   "execution_count": 33,
   "id": "e28b8904",
   "metadata": {},
   "outputs": [
    {
     "data": {
      "image/png": "[encoded data removed]",
      "text/plain": [
       "<Figure size 432x288 with 1 Axes>"
      ]
     },
     "metadata": {
      "needs_background": "light"
     },
     "output_type": "display_data"
    }
   ],
   "source": [
    "# recall that the array is arranged x_list, f_function, and g_function\n",
    "plt.plot(array[:,0], array[:, 1], 'r', lw=2, label=\"f\")\n",
    "plt.plot(array[:,0], array[:, 2], '--b', label=\"f'\")\n",
    "plt.xlabel('x points')\n",
    "plt.ylabel(\"f and f'\")\n",
    "plt.legend()\n",
    "plt.grid()\n"
   ]
  },
  {
   "cell_type": "markdown",
   "id": "15ad56b5",
   "metadata": {},
   "source": [
    "# Tools used to debug the assignment"
   ]
  },
  {
   "cell_type": "code",
   "execution_count": null,
   "id": "415732a0",
   "metadata": {},
   "outputs": [],
   "source": [
    "hstack = np.hstack((xi, yi, zi))"
   ]
  },
  {
   "cell_type": "code",
   "execution_count": null,
   "id": "31a0f6f2",
   "metadata": {},
   "outputs": [],
   "source": [
    "hstack.shape"
   ]
  },
  {
   "cell_type": "code",
   "execution_count": null,
   "id": "325d232f",
   "metadata": {},
   "outputs": [],
   "source": [
    "xi.shape"
   ]
  },
  {
   "cell_type": "code",
   "execution_count": null,
   "id": "7f300845",
   "metadata": {},
   "outputs": [],
   "source": [
    "test = np.empty(3).reshape(-1, 3)\n",
    "test"
   ]
  },
  {
   "cell_type": "code",
   "execution_count": null,
   "id": "220dc535",
   "metadata": {},
   "outputs": [],
   "source": [
    "hstack.shape"
   ]
  },
  {
   "cell_type": "code",
   "execution_count": null,
   "id": "6cda0c74",
   "metadata": {},
   "outputs": [],
   "source": [
    "test = np.vstack((test, hstack))"
   ]
  },
  {
   "cell_type": "code",
   "execution_count": null,
   "id": "20dde582",
   "metadata": {},
   "outputs": [],
   "source": [
    "np.append?"
   ]
  },
  {
   "cell_type": "code",
   "execution_count": null,
   "id": "8d7d4005",
   "metadata": {},
   "outputs": [],
   "source": [
    "test.shape"
   ]
  },
  {
   "cell_type": "code",
   "execution_count": null,
   "id": "3d7d769f",
   "metadata": {},
   "outputs": [],
   "source": [
    "test[1:,]"
   ]
  },
  {
   "cell_type": "code",
   "execution_count": null,
   "id": "e18e688e",
   "metadata": {},
   "outputs": [],
   "source": [
    "np.savetxt('test.txt', test[1:,], header='x y z')"
   ]
  },
  {
   "cell_type": "code",
   "execution_count": null,
   "id": "495a5a49",
   "metadata": {},
   "outputs": [],
   "source": []
  }
 ],
 "metadata": {
  "kernelspec": {
   "display_name": "Python 3",
   "language": "python",
   "name": "python3"
  },
  "language_info": {
   "codemirror_mode": {
    "name": "ipython",
    "version": 3
   },
   "file_extension": ".py",
   "mimetype": "text/x-python",
   "name": "python",
   "nbconvert_exporter": "python",
   "pygments_lexer": "ipython3",
   "version": "3.8.8"
  }
 },
 "nbformat": 4,
 "nbformat_minor": 5
}
