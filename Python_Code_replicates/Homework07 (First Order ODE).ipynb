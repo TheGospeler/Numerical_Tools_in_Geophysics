{
 "cells": [
  {
   "cell_type": "markdown",
   "id": "9cbfb755",
   "metadata": {},
   "source": [
    "# Python Scripts for the Homework on Numerical Tools\n"
   ]
  },
  {
   "cell_type": "markdown",
   "id": "25ae15f9",
   "metadata": {},
   "source": [
    "### Homework07- ODE"
   ]
  },
  {
   "cell_type": "markdown",
   "id": "1c36825a",
   "metadata": {},
   "source": [
    "#### Functions"
   ]
  },
  {
   "cell_type": "code",
   "execution_count": 3,
   "id": "be82b502",
   "metadata": {},
   "outputs": [],
   "source": [
    "# functions needed to get the derivatives\n",
    "def function(x, f):\n",
    "    return (x+f)/x"
   ]
  },
  {
   "cell_type": "code",
   "execution_count": 1,
   "id": "aaff0bca",
   "metadata": {},
   "outputs": [],
   "source": [
    "# ODE methods\n",
    "\n",
    "def euler(function, no_of_steps, upper_limit, lower_limit):\n",
    "    \n",
    "    step_points = no_of_steps\n",
    "    h = (upper_limit - lower_limit) / (no_of_steps*1.0)\n",
    "    \n",
    "    # initial conditions\n",
    "    initial_func = 2.0\n",
    "    \n",
    "    for step_point in range(1, step_points+1, 1):\n",
    "        x = lower_limit+h*(step_point-1)\n",
    "        \n",
    "        # calculate the current function\n",
    "        current_func = initial_func + h*function(x, initial_func)\n",
    "        \n",
    "        initial_func = current_func\n",
    "        \n",
    "    euler = initial_func\n",
    "    return euler\n",
    "        \n",
    "\n",
    "\n",
    "def modified_euler(function, no_of_steps, upper_limit, lower_limit):\n",
    "    step_points = no_of_steps\n",
    "    h = (upper_limit - lower_limit) / (no_of_steps*1.0)\n",
    "    \n",
    "    # initial conditions\n",
    "    initial_func = 2.0\n",
    "    \n",
    "    for step_point in range(1, step_points+1, 1):\n",
    "        xo = lower_limit+h*(step_point-1)\n",
    "        xi = lower_limit+h*(step_point)\n",
    "        \n",
    "        # ko and ki are part of the modified Euler equation\n",
    "        ko = h*function(xo, initial_func)\n",
    "        ki = h*function(xi, initial_func+ko)\n",
    "        \n",
    "        # calculate the current function\n",
    "        current_func = initial_func + 0.5*(ko + ki)\n",
    "        \n",
    "        initial_func = current_func\n",
    "        \n",
    "    mod_euler = initial_func\n",
    "    return mod_euler\n",
    "\n",
    "\n",
    "def midpoint(function, no_of_steps, upper_limit, lower_limit):\n",
    "    step_points = no_of_steps\n",
    "    h = (upper_limit - lower_limit) / (no_of_steps*1.0)\n",
    "    \n",
    "    # initial conditions\n",
    "    initial_func = 2.0\n",
    "    \n",
    "    for step_point in range(1, step_points+1, 1):\n",
    "        x = lower_limit+h*(step_point-1)\n",
    "        mid = h/2\n",
    "        \n",
    "        # ko and ki are part of the modified Euler equation\n",
    "        ko = h*function(x, initial_func)\n",
    "        ki = h*function(x+mid, initial_func + ko/2)\n",
    "        \n",
    "        # calculate the current function\n",
    "        current_func = initial_func + ki\n",
    "        \n",
    "        initial_func = current_func\n",
    "        \n",
    "    mid_point = initial_func\n",
    "    return mid_point\n",
    "\n",
    "\n",
    "def runge_kutta(function, no_of_steps, upper_limit, lower_limit):\n",
    "    step_points = no_of_steps\n",
    "    h = (upper_limit - lower_limit) / (no_of_steps*1.0)\n",
    "    \n",
    "    # initial conditions\n",
    "    initial_func = 2.0\n",
    "    \n",
    "    for step_point in range(1, step_points+1, 1):\n",
    "        x = lower_limit+h*(step_point-1)\n",
    "        mid = h/2\n",
    "        \n",
    "        # k0, k1, k2, and k3 are part of the modified Euler equation\n",
    "        ko = h*function(x, initial_func)\n",
    "        k1 = h*function(x+mid, initial_func + ko/2)\n",
    "        k2 = h*function(x+mid, initial_func + k1/2)\n",
    "        k3 = h*function(x+h, initial_func + k2)\n",
    "        \n",
    "        # calculate the current function\n",
    "        current_func = initial_func + (ko + 2*k1 + 2*k2 + k3) / 6\n",
    "        \n",
    "        initial_func = current_func\n",
    "        \n",
    "    runge_kutta = initial_func\n",
    "    return runge_kutta"
   ]
  },
  {
   "cell_type": "markdown",
   "id": "319a7476",
   "metadata": {},
   "source": [
    "### Print the individual functions"
   ]
  },
  {
   "cell_type": "code",
   "execution_count": 4,
   "id": "bfced44e",
   "metadata": {},
   "outputs": [
    {
     "name": "stdout",
     "output_type": "stream",
     "text": [
      "Euler(Number of steps: 1) f(x=5.0) = 8.00000\n",
      "Euler(Number of steps: 2) f(x=5.0) = 8.64286\n",
      "Euler(Number of steps: 4) f(x=5.0) = 9.06742\n",
      "Euler(Number of steps: 8) f(x=5.0) = 9.31246\n",
      "Euler(Number of steps: 16) f(x=5.0) = 9.44390\n",
      "Euler(Number of steps: 32) f(x=5.0) = 9.51191\n",
      "Euler(Number of steps: 64) f(x=5.0) = 9.54649\n",
      "Euler(Number of steps: 128) f(x=5.0) = 9.56392\n",
      "Euler(Number of steps: 256) f(x=5.0) = 9.57268\n",
      "Euler(Number of steps: 512) f(x=5.0) = 9.57706\n",
      "Euler(Number of steps: 1024) f(x=5.0) = 9.57926\n",
      "Euler(Number of steps: 2048) f(x=5.0) = 9.58036\n",
      "Euler(Number of steps: 4096) f(x=5.0) = 9.58090\n",
      "Euler(Number of steps: 8192) f(x=5.0) = 9.58118\n",
      "Euler(Number of steps: 16384) f(x=5.0) = 9.58132\n",
      "Euler(Number of steps: 32768) f(x=5.0) = 9.58138\n",
      "Euler(Number of steps: 65536) f(x=5.0) = 9.58142\n",
      "Euler(Number of steps: 131072) f(x=5.0) = 9.58144\n",
      "Euler(Number of steps: 262144) f(x=5.0) = 9.58145\n"
     ]
    }
   ],
   "source": [
    "# EULER METHOD\n",
    "\n",
    "print_euler = 1\n",
    "eur_prev_func = 0\n",
    "no_of_steps = 1\n",
    "upper_limit = 5.0\n",
    "lower_limit = 2.0\n",
    "\n",
    "# level of accuracy\n",
    "eps = 1e-5\n",
    "\n",
    "while(print_euler):\n",
    "    eur_curr_func = euler(function, no_of_steps, upper_limit, lower_limit)\n",
    "    error_check = eur_curr_func - eur_prev_func\n",
    "    \n",
    "    # Check to see if the level of accuracy is met\n",
    "    if(error_check < eps):\n",
    "        print_euler = 0\n",
    "    \n",
    "    print(\"Euler(Number of steps: {}) f(x=5.0) = {:.5f}\".format(no_of_steps, eur_curr_func))\n",
    "    \n",
    "    # Increment no_of_steps and Update the eur_prev_func\n",
    "    no_of_steps = no_of_steps *2\n",
    "    eur_prev_func = eur_curr_func"
   ]
  },
  {
   "cell_type": "code",
   "execution_count": 5,
   "id": "9a84919c",
   "metadata": {},
   "outputs": [
    {
     "name": "stdout",
     "output_type": "stream",
     "text": [
      "ModifiedEuler(Number of steps: 1) f(x=5.0) = 8.90000\n",
      "ModifiedEuler(Number of steps: 2) f(x=5.0) = 9.32704\n",
      "ModifiedEuler(Number of steps: 4) f(x=5.0) = 9.50227\n",
      "ModifiedEuler(Number of steps: 8) f(x=5.0) = 9.55935\n",
      "ModifiedEuler(Number of steps: 16) f(x=5.0) = 9.57562\n",
      "ModifiedEuler(Number of steps: 32) f(x=5.0) = 9.57996\n",
      "ModifiedEuler(Number of steps: 64) f(x=5.0) = 9.58107\n",
      "ModifiedEuler(Number of steps: 128) f(x=5.0) = 9.58136\n",
      "ModifiedEuler(Number of steps: 256) f(x=5.0) = 9.58143\n",
      "ModifiedEuler(Number of steps: 512) f(x=5.0) = 9.58145\n",
      "ModifiedEuler(Number of steps: 1024) f(x=5.0) = 9.58145\n"
     ]
    }
   ],
   "source": [
    "# Modified_Euler METHOD\n",
    "\n",
    "print_mod_euler = 1\n",
    "mod_eur_prev_func = 0\n",
    "no_of_steps = 1\n",
    "upper_limit = 5.0\n",
    "lower_limit = 2.0\n",
    "\n",
    "# level of accuracy\n",
    "eps = 1e-5\n",
    "\n",
    "while(print_mod_euler):\n",
    "    mod_eur_curr_func = modified_euler(function, no_of_steps, upper_limit, lower_limit)\n",
    "    error_check = mod_eur_curr_func - mod_eur_prev_func\n",
    "    \n",
    "    # Check to see if the level of accuracy is met\n",
    "    if(error_check < eps):\n",
    "        print_mod_euler = 0\n",
    "    \n",
    "    print(\"ModifiedEuler(Number of steps: {}) f(x=5.0) = {:.5f}\".format(no_of_steps, mod_eur_curr_func))\n",
    "    \n",
    "    # Increment no_of_steps and Update the eur_prev_func\n",
    "    no_of_steps = no_of_steps *2\n",
    "    mod_eur_prev_func = mod_eur_curr_func"
   ]
  },
  {
   "cell_type": "code",
   "execution_count": 6,
   "id": "f7c569ee",
   "metadata": {},
   "outputs": [
    {
     "name": "stdout",
     "output_type": "stream",
     "text": [
      "Midpoint(Number of steps: 1) f(x=5.0) = 9.28571\n",
      "Midpoint(Number of steps: 2) f(x=5.0) = 9.49198\n",
      "Midpoint(Number of steps: 4) f(x=5.0) = 9.55750\n",
      "Midpoint(Number of steps: 8) f(x=5.0) = 9.57534\n",
      "Midpoint(Number of steps: 16) f(x=5.0) = 9.57992\n",
      "Midpoint(Number of steps: 32) f(x=5.0) = 9.58107\n",
      "Midpoint(Number of steps: 64) f(x=5.0) = 9.58136\n",
      "Midpoint(Number of steps: 128) f(x=5.0) = 9.58143\n",
      "Midpoint(Number of steps: 256) f(x=5.0) = 9.58145\n",
      "Midpoint(Number of steps: 512) f(x=5.0) = 9.58145\n"
     ]
    }
   ],
   "source": [
    "# Midpoint METHOD\n",
    "\n",
    "print_midpoint = 1\n",
    "midpoint_prev_func = 0\n",
    "no_of_steps = 1\n",
    "upper_limit = 5.0\n",
    "lower_limit = 2.0\n",
    "\n",
    "# level of accuracy\n",
    "eps = 1e-5\n",
    "\n",
    "while(print_midpoint):\n",
    "    midpoint_curr_func = midpoint(function, no_of_steps, upper_limit, lower_limit)\n",
    "    error_check = midpoint_curr_func - midpoint_prev_func\n",
    "    \n",
    "    # Check to see if the level of accuracy is met\n",
    "    if(error_check < eps):\n",
    "        print_midpoint = 0\n",
    "    \n",
    "    print(\"Midpoint(Number of steps: {}) f(x=5.0) = {:.5f}\".format(no_of_steps, midpoint_curr_func))\n",
    "    \n",
    "    # Increment no_of_steps and Update the eur_prev_func\n",
    "    no_of_steps = no_of_steps *2\n",
    "    midpoint_prev_func = midpoint_curr_func"
   ]
  },
  {
   "cell_type": "code",
   "execution_count": 7,
   "id": "089b6cad",
   "metadata": {},
   "outputs": [
    {
     "name": "stdout",
     "output_type": "stream",
     "text": [
      "Runge-Kutta(Number of steps: 1) f(x=5.0) = 9.52449\n",
      "Runge-Kutta(Number of steps: 2) f(x=5.0) = 9.57440\n",
      "Runge-Kutta(Number of steps: 4) f(x=5.0) = 9.58084\n",
      "Runge-Kutta(Number of steps: 8) f(x=5.0) = 9.58141\n",
      "Runge-Kutta(Number of steps: 16) f(x=5.0) = 9.58145\n",
      "Runge-Kutta(Number of steps: 32) f(x=5.0) = 9.58145\n"
     ]
    }
   ],
   "source": [
    "# Runge-Kutta METHOD\n",
    "\n",
    "print_rk = 1\n",
    "rk_prev_func = 0\n",
    "no_of_steps = 1\n",
    "upper_limit = 5.0\n",
    "lower_limit = 2.0\n",
    "\n",
    "# level of accuracy\n",
    "eps = 1e-5\n",
    "\n",
    "while(print_rk):\n",
    "    rk_curr_func = runge_kutta(function, no_of_steps, upper_limit, lower_limit)\n",
    "    error_check = rk_curr_func - rk_prev_func\n",
    "    \n",
    "    # Check to see if the level of accuracy is met\n",
    "    if(error_check < eps):\n",
    "        print_rk = 0\n",
    "    \n",
    "    print(\"Runge-Kutta(Number of steps: {}) f(x=5.0) = {:.5f}\".format(no_of_steps, rk_curr_func))\n",
    "    \n",
    "    # Increment no_of_steps and Update the eur_prev_func\n",
    "    no_of_steps = no_of_steps *2\n",
    "    rk_prev_func = rk_curr_func"
   ]
  },
  {
   "cell_type": "code",
   "execution_count": null,
   "id": "3ecfb694",
   "metadata": {},
   "outputs": [],
   "source": []
  }
 ],
 "metadata": {
  "kernelspec": {
   "display_name": "Python 3",
   "language": "python",
   "name": "python3"
  },
  "language_info": {
   "codemirror_mode": {
    "name": "ipython",
    "version": 3
   },
   "file_extension": ".py",
   "mimetype": "text/x-python",
   "name": "python",
   "nbconvert_exporter": "python",
   "pygments_lexer": "ipython3",
   "version": "3.8.8"
  }
 },
 "nbformat": 4,
 "nbformat_minor": 5
}
