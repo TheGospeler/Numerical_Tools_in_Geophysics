{
 "cells": [
  {
   "cell_type": "markdown",
   "id": "4945cccf",
   "metadata": {},
   "source": [
    "## Python Scripts for the Homework on Numerical Tools"
   ]
  },
  {
   "cell_type": "markdown",
   "id": "077e3274",
   "metadata": {},
   "source": [
    "### Homework05-  Error function and outputs the value"
   ]
  },
  {
   "cell_type": "code",
   "execution_count": 30,
   "id": "505a4895",
   "metadata": {},
   "outputs": [],
   "source": [
    "import numpy as np\n",
    "import math as p"
   ]
  },
  {
   "cell_type": "code",
   "execution_count": 38,
   "id": "c766e322",
   "metadata": {},
   "outputs": [],
   "source": [
    "# The following code prints out the x value and the associative error function\n",
    "\n",
    "def error_function(x):\n",
    "    # keep_going is the variable that enables the outer loop to continue within the confinement of the set conditions\n",
    "    keep_going = 1\n",
    "    previous = 0.0\n",
    "    interval = 2\n",
    "    l_limit = 0.0\n",
    "    u_limit = x\n",
    "    \n",
    "    while(keep_going):\n",
    "        h = (u_limit - l_limit) / interval\n",
    "\n",
    "        a_z_sum =  np.exp(-1.0*u_limit*u_limit) + np.exp(-1.0*l_limit*l_limit)\n",
    "\n",
    "        sum_odd = 0\n",
    "        int_pnt = 1\n",
    "        while int_pnt <= interval-1:\n",
    "            s = l_limit+int_pnt*h\n",
    "            sum_odd = sum_odd + 4* np.exp(-1 * s**2)\n",
    "            int_pnt += 2\n",
    "\n",
    "        sum_even = 0\n",
    "        int_pnt = 2\n",
    "        while int_pnt <= interval-2:\n",
    "            s = l_limit+int_pnt*h\n",
    "            sum_even = sum_even + 2* np.exp(-1 * s**2)\n",
    "            int_pnt += 2\n",
    "        \n",
    "        current = (2/np.sqrt(np.pi)) * (a_z_sum + sum_odd + sum_even) * h/3\n",
    "        diff = current - previous\n",
    "        check = abs(diff)\n",
    "        eps = 1e-09\n",
    "\n",
    "        if (check < eps):\n",
    "            return current\n",
    "            keep_going = 0\n",
    "        \n",
    "        interval =interval *2\n",
    "        previous = current"
   ]
  },
  {
   "cell_type": "code",
   "execution_count": 56,
   "id": "ce00b830",
   "metadata": {},
   "outputs": [],
   "source": [
    "# declaring variables:\n",
    "lower_limit = 0.0\n",
    "upper_limit = 3.0\n",
    "xpoint = 0.0 # This is what we're incrementing in the error function\n",
    "\n",
    "with open('error_function.txt', 'w') as f:\n",
    "    while xpoint <= upper_limit+0.02: #Added 0.02 to be able to print the upper_limit \n",
    "        f.write('{:.3f} {:.6f}\\n'.format(xpoint, error_function(xpoint)))\n",
    "        xpoint+= 0.02"
   ]
  },
  {
   "cell_type": "code",
   "execution_count": null,
   "id": "a8f80d27",
   "metadata": {},
   "outputs": [],
   "source": []
  }
 ],
 "metadata": {
  "kernelspec": {
   "display_name": "Python 3",
   "language": "python",
   "name": "python3"
  },
  "language_info": {
   "codemirror_mode": {
    "name": "ipython",
    "version": 3
   },
   "file_extension": ".py",
   "mimetype": "text/x-python",
   "name": "python",
   "nbconvert_exporter": "python",
   "pygments_lexer": "ipython3",
   "version": "3.8.8"
  }
 },
 "nbformat": 4,
 "nbformat_minor": 5
}
