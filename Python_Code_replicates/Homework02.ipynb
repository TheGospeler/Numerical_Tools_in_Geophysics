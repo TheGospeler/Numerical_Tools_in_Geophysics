{
 "cells": [
  {
   "cell_type": "markdown",
   "id": "29d219af",
   "metadata": {},
   "source": [
    "# Python Scripts for the Homework on Numerical Tools\n"
   ]
  },
  {
   "cell_type": "markdown",
   "id": "0709af96",
   "metadata": {},
   "source": [
    "### Homework02- Repeated Rectangle Method"
   ]
  },
  {
   "cell_type": "markdown",
   "id": "306e207f",
   "metadata": {},
   "source": [
    "### Functions Definition"
   ]
  },
  {
   "cell_type": "code",
   "execution_count": 16,
   "id": "f5d1705c",
   "metadata": {},
   "outputs": [],
   "source": [
    "# importing relevant Modules\n",
    "import numpy as np"
   ]
  },
  {
   "cell_type": "code",
   "execution_count": 3,
   "id": "173cce93",
   "metadata": {},
   "outputs": [],
   "source": [
    "def function(num):\n",
    "    return (num**3) * (1+num**4)**3\n",
    "\n",
    "def trapezoid(interval, u_limit, l_limit):\n",
    "    no_integration_pnt= interval\n",
    "    h = (u_limit - l_limit) / interval*1.0\n",
    "\n",
    "    summ = 0.0\n",
    "    int_pnt = 2\n",
    "    while (int_pnt <= no_integration_pnt):\n",
    "        x = l_limit + h * (int_pnt-1)\n",
    "        summ = summ + function(x)\n",
    "        int_pnt+= 1\n",
    "    \n",
    "    trap_function = 0.5 * (function(l_limit) + function(u_limit)) + summ\n",
    "    return h * trap_function\n",
    "    \n",
    "def rectangle(interval, u_limit, l_limit):\n",
    "    no_integration_pnt= interval\n",
    "    h = (u_limit - l_limit) / interval\n",
    "    \n",
    "    summ = 0.0\n",
    "    int_pnt = 1\n",
    "    while (int_pnt <= no_integration_pnt):\n",
    "        x = l_limit + h * (int_pnt-1)\n",
    "        summ = summ + function(x)\n",
    "        int_pnt+= 1\n",
    "    \n",
    "    rect_function = h*summ\n",
    "    return rect_function\n"
   ]
  },
  {
   "cell_type": "markdown",
   "id": "56335247",
   "metadata": {},
   "source": [
    "#### Variable Definition"
   ]
  },
  {
   "cell_type": "code",
   "execution_count": 71,
   "id": "7eb96fd2",
   "metadata": {},
   "outputs": [],
   "source": [
    "upper_limit= 1.0\n",
    "lower_limit= 0.0\n",
    "\n",
    "analytical_soln = 15.0/16.0"
   ]
  },
  {
   "cell_type": "markdown",
   "id": "e8b52ed1",
   "metadata": {},
   "source": [
    "### Main Program"
   ]
  },
  {
   "cell_type": "code",
   "execution_count": 87,
   "id": "af9473d7",
   "metadata": {},
   "outputs": [
    {
     "name": "stdout",
     "output_type": "stream",
     "text": [
      "Enter preferred number of intervals: 1000000\n",
      "Rectangle Rule (n=1000000): Answer: 0.93750 (Error 0.0004%)\n",
      "Trapezoid Rule (n=1000000): Answer: 0.93750 (Error 0.0000%)\n"
     ]
    }
   ],
   "source": [
    "intervals = input(\"Enter preferred number of intervals: \")\n",
    "if not intervals.isnumeric():\n",
    "    print(\"You did not enter a numeric value, Please try again\")\n",
    "    \n",
    "# Repeated Rectangle Rule\n",
    "ans_rect = rectangle(int(intervals), upper_limit, lower_limit)\n",
    "error_rect = (abs(ans_rect - analytical_soln) / analytical_soln) * 100\n",
    "\n",
    "# Repeated Trapezoid\n",
    "ans_trap = trapezoid(int(intervals), upper_limit, lower_limit)\n",
    "error_trap = (abs(ans_trap - analytical_soln) / analytical_soln) * 100\n",
    "\n",
    "# Print the functions\n",
    "print(\"Rectangle Rule (n={}): Answer: {:.5f} (Error {:.4f}%)\".format(intervals, ans_rect, error_rect))\n",
    "print(\"Trapezoid Rule (n={}): Answer: {:.5f} (Error {:.4f}%)\".format(intervals, ans_trap, error_trap))"
   ]
  },
  {
   "cell_type": "code",
   "execution_count": null,
   "id": "e77d308f",
   "metadata": {},
   "outputs": [],
   "source": []
  }
 ],
 "metadata": {
  "kernelspec": {
   "display_name": "Python 3",
   "language": "python",
   "name": "python3"
  },
  "language_info": {
   "codemirror_mode": {
    "name": "ipython",
    "version": 3
   },
   "file_extension": ".py",
   "mimetype": "text/x-python",
   "name": "python",
   "nbconvert_exporter": "python",
   "pygments_lexer": "ipython3",
   "version": "3.8.8"
  }
 },
 "nbformat": 4,
 "nbformat_minor": 5
}
