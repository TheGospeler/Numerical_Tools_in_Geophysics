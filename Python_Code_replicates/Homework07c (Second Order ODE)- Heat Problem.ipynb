{
 "cells": [
  {
   "cell_type": "markdown",
   "id": "2cb4b1be",
   "metadata": {},
   "source": [
    "# Python Scripts for the Homework on Numerical Tools"
   ]
  },
  {
   "cell_type": "markdown",
   "id": "be03f84e",
   "metadata": {},
   "source": [
    "## Homework07 (Second Order ODE)- Heat Problem"
   ]
  },
  {
   "cell_type": "markdown",
   "id": "c4495cd4",
   "metadata": {},
   "source": [
    "using the **rk_2nd_order** function created and saved, we can then calculate the heat problem providing the function of the heat equation"
   ]
  },
  {
   "cell_type": "code",
   "execution_count": 1,
   "id": "896b9f6c",
   "metadata": {},
   "outputs": [],
   "source": [
    "import numpy as np\n",
    "import matplotlib.pyplot as plt\n",
    "from sagacious_function import rk_2nd_order as rk2"
   ]
  },
  {
   "cell_type": "code",
   "execution_count": 2,
   "id": "3f88aa84",
   "metadata": {},
   "outputs": [],
   "source": [
    "def heat_eqn(z, f_z, g_z):\n",
    "    H_z = (4*1e-6) * np.exp(-z/10000)\n",
    "    dx2 = -H_z / 4\n",
    "    \n",
    "    return dx2"
   ]
  },
  {
   "cell_type": "code",
   "execution_count": 3,
   "id": "28305107",
   "metadata": {},
   "outputs": [
    {
     "name": "stdout",
     "output_type": "stream",
     "text": [
      "Runge-Kutta(Number of steps: 1) f(x=30000.0) = 328.06095\n",
      "Runge-Kutta(Number of steps: 2) f(x=30000.0) = 339.07782\n",
      "Runge-Kutta(Number of steps: 4) f(x=30000.0) = 339.95842\n",
      "Runge-Kutta(Number of steps: 8) f(x=30000.0) = 340.01730\n",
      "Runge-Kutta(Number of steps: 16) f(x=30000.0) = 340.02104\n",
      "Runge-Kutta(Number of steps: 32) f(x=30000.0) = 340.02128\n",
      "Runge-Kutta(Number of steps: 64) f(x=30000.0) = 340.02129\n",
      "Runge-Kutta(Number of steps: 128) f(x=30000.0) = 340.02129\n"
     ]
    }
   ],
   "source": [
    "#using the rk_2nd_order function\n",
    "print_runge=1\n",
    "rk2_prev_func = 0.0\n",
    "eps = 1e-5\n",
    "no_of_steps = 1\n",
    "\n",
    "upper_limit = 30000.0\n",
    "lower_limit = 0.0\n",
    "\n",
    "#initial value functions\n",
    "initial_func = 20.0\n",
    "initial_gfunc = 0.0175\n",
    "\n",
    "init = [initial_func, initial_gfunc]\n",
    "\n",
    "while(print_runge):\n",
    "    rk2_curr_func, array = rk2(heat_eqn, init, no_of_steps, upper_limit, lower_limit)\n",
    "    \n",
    "    error_check = abs(rk2_curr_func - rk2_prev_func)\n",
    "    # Check to see if the level of accuracy is met\n",
    "    if(error_check < eps):\n",
    "        print_runge = 0\n",
    "    \n",
    "    \n",
    "    print(\"Runge-Kutta(Number of steps: {}) f(x=30000.0) = {:.5f}\".format(no_of_steps, rk2_curr_func))\n",
    "    \n",
    "    # Increment no_of_steps and Update the eur_prev_func\n",
    "    no_of_steps = no_of_steps *2\n",
    "    rk2_prev_func = rk2_curr_func"
   ]
  },
  {
   "cell_type": "code",
   "execution_count": 5,
   "id": "c7546ed8",
   "metadata": {},
   "outputs": [
    {
     "data": {
      "text/plain": [
       "(128, 3)"
      ]
     },
     "execution_count": 5,
     "metadata": {},
     "output_type": "execute_result"
    }
   ],
   "source": [
    "array.shape"
   ]
  },
  {
   "cell_type": "code",
   "execution_count": 6,
   "id": "ffa0d235",
   "metadata": {},
   "outputs": [
    {
     "data": {
      "image/png": "[encoded data removed]",
      "text/plain": [
       "<Figure size 432x288 with 1 Axes>"
      ]
     },
     "metadata": {
      "needs_background": "light"
     },
     "output_type": "display_data"
    }
   ],
   "source": [
    "# recall that the array is arranged x_list, f_function, and g_function\n",
    "plt.plot(array[:,0], array[:, 1], 'r', lw=2)\n",
    "plt.xlabel('Depth(meters)')\n",
    "plt.ylabel(\"Temperature (Celsius)\")\n",
    "plt.grid()\n"
   ]
  },
  {
   "cell_type": "code",
   "execution_count": null,
   "id": "c86a468d",
   "metadata": {},
   "outputs": [],
   "source": []
  }
 ],
 "metadata": {
  "kernelspec": {
   "display_name": "Python 3",
   "language": "python",
   "name": "python3"
  },
  "language_info": {
   "codemirror_mode": {
    "name": "ipython",
    "version": 3
   },
   "file_extension": ".py",
   "mimetype": "text/x-python",
   "name": "python",
   "nbconvert_exporter": "python",
   "pygments_lexer": "ipython3",
   "version": "3.8.8"
  }
 },
 "nbformat": 4,
 "nbformat_minor": 5
}
